{
 "cells": [
  {
   "cell_type": "markdown",
   "metadata": {},
   "source": [
    "# Elevated-plus maze analysis"
   ]
  },
  {
   "cell_type": "code",
   "execution_count": null,
   "metadata": {
    "ExecuteTime": {
     "end_time": "2018-02-13T20:57:49.661245Z",
     "start_time": "2018-02-13T20:57:48.745976Z"
    }
   },
   "outputs": [],
   "source": [
    "%load_ext rpy2.ipython\n",
    "%matplotlib inline\n",
    "import matplotlib.pyplot as plt\n",
    "import numpy as np\n",
    "import pandas as pd\n",
    "from pandas.api.types import CategoricalDtype\n",
    "import seaborn as sns\n",
    "import scipy.stats\n",
    "from scipy.ndimage import filters\n",
    "import os\n",
    "import time\n",
    "import itertools\n",
    "\n",
    "import custom"
   ]
  },
  {
   "cell_type": "code",
   "execution_count": null,
   "metadata": {
    "ExecuteTime": {
     "end_time": "2018-02-13T20:57:49.954461Z",
     "start_time": "2018-02-13T20:57:49.663027Z"
    }
   },
   "outputs": [],
   "source": [
    "idx = pd.IndexSlice"
   ]
  },
  {
   "cell_type": "markdown",
   "metadata": {},
   "source": [
    "## Import and setup data"
   ]
  },
  {
   "cell_type": "code",
   "execution_count": null,
   "metadata": {
    "ExecuteTime": {
     "end_time": "2018-02-13T20:57:54.273819Z",
     "start_time": "2018-02-13T20:57:54.270604Z"
    }
   },
   "outputs": [],
   "source": [
    "# Parameters\n",
    "filename = './data/epm.h5'"
   ]
  },
  {
   "cell_type": "code",
   "execution_count": null,
   "metadata": {
    "ExecuteTime": {
     "end_time": "2018-02-13T20:57:56.386551Z",
     "start_time": "2018-02-13T20:57:55.197163Z"
    },
    "code_folding": []
   },
   "outputs": [],
   "source": [
    "# Import data\n",
    "with pd.HDFStore(filename, mode='r') as hf:\n",
    "    neural_activity = hf['neural']\n",
    "    behav = hf['behav']\n",
    "\n",
    "# If running Python 3\n",
    "import sys\n",
    "if sys.version_info[0] <= 3:\n",
    "    neural_activity.columns.names = [x.decode() for x in neural_activity.columns.names]\n",
    "    behav.columns.names = [x.decode() for x in behav.columns.names]"
   ]
  },
  {
   "cell_type": "markdown",
   "metadata": {},
   "source": [
    "Normalize neural data by dividing standard deviation within each neuron."
   ]
  },
  {
   "cell_type": "code",
   "execution_count": null,
   "metadata": {
    "ExecuteTime": {
     "end_time": "2018-02-13T20:58:00.792141Z",
     "start_time": "2018-02-13T20:58:00.726094Z"
    },
    "code_folding": []
   },
   "outputs": [],
   "source": [
    "# Normalize imaging data\n",
    "\n",
    "neural_norm = neural_activity * (1 / neural_activity.std())\n",
    "\n",
    "# Remove cells with no activity/std in baseline (if any)\n",
    "neural_norm = neural_norm.replace([np.inf, -np.inf], np.nan)\n",
    "neural_norm = neural_norm.dropna(axis=1, how='all')\n",
    "\n",
    "n_cells = neural_norm.shape[1]"
   ]
  },
  {
   "cell_type": "code",
   "execution_count": null,
   "metadata": {
    "ExecuteTime": {
     "end_time": "2018-02-13T20:58:02.006320Z",
     "start_time": "2018-02-13T20:58:01.841708Z"
    },
    "code_folding": []
   },
   "outputs": [],
   "source": [
    "# Normalize features\n",
    "\n",
    "col_no_norm = [\n",
    "    'In zone(Center / center-point)',\n",
    "    'In zone(Closed arms / center-point)',\n",
    "    'In zone(Open arms / center-point)',\n",
    "    'Mobility state(Immobile)',\n",
    "    'Mobility state(Mobile)',\n",
    "    'Mobility state(Highly mobile)',\n",
    "    'Zone transition(center-point / Center > Closed arms)',\n",
    "    'Zone transition(center-point / Center > Open arms)',\n",
    "    'Zone transition(center-point / Closed arms > Center)',\n",
    "    'Zone transition(center-point / Open arms > Center)',\n",
    "]\n",
    "\n",
    "behav_norm = behav.copy()\n",
    "for column in behav.columns:\n",
    "    if column[1] not in col_no_norm:\n",
    "        behav_norm[column] = (behav[column] - behav[column].mean()) * (1 /  (behav[column].std() or 1))\n",
    "        # if max is 0, entire column is 0"
   ]
  },
  {
   "cell_type": "markdown",
   "metadata": {},
   "source": [
    "### Bin neural activity"
   ]
  },
  {
   "cell_type": "code",
   "execution_count": null,
   "metadata": {
    "ExecuteTime": {
     "end_time": "2018-02-13T20:59:04.822651Z",
     "start_time": "2018-02-13T20:59:04.740693Z"
    }
   },
   "outputs": [],
   "source": [
    "n_bins = 10\n",
    "max_d = 35\n",
    "bins = np.arange(n_bins + 1, dtype=float) / n_bins * max_d\n",
    "bins = np.insert(bins, 0, -1)\n",
    "bin_labels = np.arange(0, n_bins+1) / 10.\n",
    "binned_loc = pd.cut(behav.xs('Distance to zone', axis=1, level='feature').stack('subject'), bins, labels=bin_labels).unstack('subject')\n",
    "binned_loc.columns = pd.MultiIndex.from_product([binned_loc.columns, ['Distance to zone']], names=['subject', 'feature'])\n",
    "\n",
    "df_zone = behav.loc[:, (slice(None), ['In zone(Center / center-point)', 'In zone(Closed arms / center-point)', 'In zone(Open arms / center-point)'])].astype(bool).sort_index(axis=1)\n",
    "for subj, df in df_zone.groupby(axis=1, level='subject'):\n",
    "    df_zone[(subj, 'zone')] = pd.Series(['center' if x else 'closed' if y else 'open' if z else 'na' for (x, y, z), in zip(df.values)], index=df.index)\n",
    "\n",
    "df_loc = pd.concat([binned_loc, df_zone], axis=1).sort_index(axis=1)\n",
    "\n",
    "loc = df_loc.loc[:, (slice(None), ['zone', 'Distance to zone'])]\n",
    "dfs = {}\n",
    "for subj, df in df_loc.groupby(axis=1, level='subject'):\n",
    "    dfs[subj] = pd.concat([loc[subj], neural_norm[subj]], axis=1).groupby(['Distance to zone', 'zone']).mean()\n",
    "\n",
    "neural_zone = pd.concat(dfs, axis=1, names=['subject', 'neuron'])"
   ]
  },
  {
   "cell_type": "markdown",
   "metadata": {},
   "source": [
    "### Group neurons"
   ]
  },
  {
   "cell_type": "code",
   "execution_count": null,
   "metadata": {
    "ExecuteTime": {
     "end_time": "2018-02-13T20:59:09.821382Z",
     "start_time": "2018-02-13T20:59:08.760450Z"
    }
   },
   "outputs": [],
   "source": [
    "# Average activity by location\n",
    "\n",
    "n_cells = neural_norm.shape[1]\n",
    "p_thresh = 0.05 / n_cells #neural_arm.shape[0]\n",
    "center_col = 'In zone(Center / center-point)'\n",
    "closed_col = 'In zone(Closed arms / center-point)'\n",
    "open_col = 'In zone(Open arms / center-point)'\n",
    "\n",
    "# Average activity for each neuron in each zone\n",
    "neural_arm = pd.DataFrame(\n",
    "    index=neural_norm.columns,\n",
    "    columns=['center', 'open', 'closed'],\n",
    "    dtype=float\n",
    ")\n",
    "neural_arm.columns.name = 'arm'\n",
    "neural_response = pd.DataFrame(index=['group', 'difference', 'p'], columns=neural_norm.columns, dtype=float)\n",
    "\n",
    "for subj, df in neural_norm.groupby(axis=1, level='subject'):\n",
    "    center_ix = behav_norm[(subj, center_col)] == 1\n",
    "    closed_ix = behav_norm[(subj, closed_col)] == 1\n",
    "    open_ix = behav_norm[(subj, open_col)] == 1\n",
    "    \n",
    "    neural_arm.loc[subj, 'center'] = df.loc[center_ix, :].mean(axis=0)\n",
    "    neural_arm.loc[subj, 'closed'] = df.loc[closed_ix, :].mean(axis=0)\n",
    "    neural_arm.loc[subj, 'open'] = df.loc[open_ix, :].mean(axis=0)\n",
    "    \n",
    "    for cell in df.loc[:, subj]:\n",
    "        X1 = df.loc[closed_ix, (slice(None), cell)]\n",
    "        X2 = df.loc[open_ix, (slice(None), cell)]\n",
    "        _, neural_response.loc['p', (subj, cell)] = scipy.stats.mannwhitneyu(X1, X2)\n",
    "\n",
    "# Calculate difference between arms\n",
    "neural_response.loc['difference'] = (neural_arm['open'] - neural_arm['closed'])\n",
    "significant_ix = neural_response.loc['p'] < p_thresh\n",
    "\n",
    "# Define groups\n",
    "neural_response.loc['group'] = 0\n",
    "exc_ix = neural_response.loc['difference'] > 0\n",
    "inh_ix = neural_response.loc['difference'] < 0\n",
    "neural_response.loc['group', neural_response.columns[significant_ix & exc_ix]] = 1\n",
    "neural_response.loc['group', neural_response.columns[significant_ix & inh_ix]] = -1\n",
    "\n",
    "# Add groups to `neural_arm`\n",
    "neural_arm.index = pd.MultiIndex.from_tuples(\n",
    "    [x + (neural_response.loc['group', x], ) for x in neural_arm.index],\n",
    "    names = ['subject', 'neuron', 'response']\n",
    ")"
   ]
  },
  {
   "cell_type": "code",
   "execution_count": null,
   "metadata": {},
   "outputs": [],
   "source": [
    "groups = neural_response.loc['group', :].astype(int).to_dict()\n",
    "neural_norm_grp = neural_norm.copy()\n",
    "neural_norm_grp.columns = pd.MultiIndex.from_tuples([x + (groups[x], ) for x in neural_norm], names=neural_norm.columns.names + ['group'])"
   ]
  },
  {
   "cell_type": "markdown",
   "metadata": {},
   "source": [
    "## Correlations"
   ]
  },
  {
   "cell_type": "markdown",
   "metadata": {},
   "source": [
    "Wilcoxon test is different between R and Python. R should be better."
   ]
  },
  {
   "cell_type": "raw",
   "metadata": {},
   "source": [
    "r_df = data_corr.reorder_levels(['group', 'subject'], axis=1).sort_index(axis=1).xs('r', axis=0, level='stat').T.reset_index()"
   ]
  },
  {
   "cell_type": "raw",
   "metadata": {},
   "source": [
    "%%R -i r_df -o results -o names\n",
    "\n",
    "results = vector('list', 6)\n",
    "names = character(6)\n",
    "\n",
    "for (group in -1:1) {\n",
    "    results[[(group+1)*2 + 1]] <- wilcox.test(r_df[(group + 1)*7 + 1:7, 'open'])[c('statistic', 'p.value')]\n",
    "    results[[(group+1)*2 + 2]] <- wilcox.test(r_df[(group + 1)*7 + 1:7, 'closed'])[c('statistic', 'p.value')]\n",
    "    \n",
    "    names[[(group+1)*2 + 1]] <- paste(c('open', group), collapse='_')\n",
    "    names[[(group+1)*2 + 2]] <- paste(c('closed', group), collapse='_')\n",
    "}"
   ]
  },
  {
   "cell_type": "raw",
   "metadata": {},
   "source": [
    "corr_stats = {(k.split('_')[0], int(k.split('_')[1])): [x[0] for x in v] for k, v in zip(names, results)}"
   ]
  },
  {
   "cell_type": "code",
   "execution_count": null,
   "metadata": {},
   "outputs": [],
   "source": [
    "# Calculate distance-activity correlations\n",
    "\n",
    "corr_method = scipy.stats.spearmanr\n",
    "\n",
    "features = ['Distance to zone', 'Velocity']\n",
    "neural_corr = pd.DataFrame(\n",
    "    index=neural_norm_grp.columns,\n",
    "    columns=pd.MultiIndex.from_product([['open', 'closed'], features, ['r', 'p']], names=['arm', 'feature', 'stat']),\n",
    "    dtype=float\n",
    ")\n",
    "neural_corr_stats = pd.DataFrame(\n",
    "    index=[-1, 0, 1],\n",
    "    columns=pd.MultiIndex.from_product([['open', 'closed'], features, ['t', 'p']], names=['arm', 'feature', 'stat'])\n",
    ")\n",
    "\n",
    "for feature in features:\n",
    "    for subj, df_subj in neural_norm_grp.groupby(axis=1, level='subject'):\n",
    "        closed_ts = behav.index[behav[subj, 'In zone(Closed arms / center-point)'] == 1]\n",
    "        open_ts = behav.index[behav[subj, 'In zone(Open arms / center-point)'] == 1]\n",
    "        for cell in df_subj:\n",
    "            for arm, arm_ix in zip(['open', 'closed'], [open_ts, closed_ts]):\n",
    "                X = df_subj.loc[arm_ix, cell]\n",
    "                Y = behav[subj, feature][arm_ix]\n",
    "                ix = ~(X.isna() | Y.isna())\n",
    "\n",
    "                neural_corr.loc[cell, (arm, feature, 'r')], neural_corr.loc[cell, (arm, feature, 'p')] = corr_method(X[ix], Y[ix])\n",
    "\n",
    "# Stats on correlation distributions\n",
    "for arm in ['closed', 'open']:\n",
    "    for feature in features:\n",
    "        for grp in [-1, 0, 1]:\n",
    "            neural_corr_stats.loc[grp, (arm, feature)] = list(scipy.stats.wilcoxon(\n",
    "                np.arctanh(neural_corr.loc[idx[:, :, grp], (arm, feature, 'r')]),\n",
    "            ))"
   ]
  },
  {
   "cell_type": "markdown",
   "metadata": {},
   "source": [
    "# Visualization"
   ]
  },
  {
   "cell_type": "markdown",
   "metadata": {},
   "source": [
    "## Behavior"
   ]
  },
  {
   "cell_type": "code",
   "execution_count": null,
   "metadata": {
    "ExecuteTime": {
     "end_time": "2018-02-13T20:59:04.739410Z",
     "start_time": "2018-02-13T20:58:58.109724Z"
    }
   },
   "outputs": [],
   "source": [
    "cols = ['In zone(Closed arms / center-point)', 'In zone(Open arms / center-point)', 'In zone(Center / center-point)']\n",
    "data = behav.loc[:, idx[:, cols]].mean()\n",
    "data.name = 'time'\n",
    "data = data.rename(index={\n",
    "    'In zone(Center / center-point)': 'center',\n",
    "    'In zone(Open arms / center-point)': 'open',\n",
    "    'In zone(Closed arms / center-point)': 'closed'\n",
    "})\n",
    "\n",
    "data_ratio = data.unstack('feature')['open'] / data.unstack('feature').sum(axis=1)\n",
    "t, p = scipy.stats.ttest_1samp(data_ratio, 0.5)\n",
    "\n",
    "fig, axes = plt.subplots(ncols=2)\n",
    "sns.stripplot(ax=axes[0], data=data.reset_index(), x='feature', y='time', order=['closed', 'center', 'open'], hue='subject')\n",
    "sns.pointplot(ax=axes[0], data=data.reset_index(), x='feature', y='time', order=['closed', 'center', 'open'], palette=['k'], ci=68, join=False)\n",
    "axes[0].get_legend().remove()\n",
    "\n",
    "axes[1].pie([data_ratio.mean(), 1 - data_ratio.mean()], labels=['open', 'closed'], autopct='%1.1f%%',)\n",
    "centre_circle = plt.Circle((0, 0), 1 / 1.4142, color='none', fc='white')\n",
    "axes[1].add_artist(centre_circle)\n",
    "axes[1].set_title('one-sample t test (0.5 mean)\\nt: {}\\np: {}'.format(t, p))\n",
    "axes[1].axis('equal')"
   ]
  },
  {
   "cell_type": "markdown",
   "metadata": {},
   "source": [
    "## Neural"
   ]
  },
  {
   "cell_type": "code",
   "execution_count": null,
   "metadata": {
    "ExecuteTime": {
     "end_time": "2018-02-13T20:59:11.325926Z",
     "start_time": "2018-02-13T20:59:10.403454Z"
    }
   },
   "outputs": [],
   "source": [
    "fig, axes = plt.subplots(ncols=2)\n",
    "\n",
    "custom.cdf(neural_arm['closed'].values, ax=axes[0], label='closed')\n",
    "custom.cdf(neural_arm['open'].values, ax=axes[0], label='open')\n",
    "axes[0].legend()\n",
    "axes[0].set_xlabel('mean_response')\n",
    "\n",
    "data = neural_arm[['closed', 'open']]\n",
    "ax0 = sns.stripplot(ax=axes[1], data=data.melt(), x='arm', y='value', s=3, jitter=True, zorder=0)\n",
    "ax1 = sns.pointplot(ax=axes[1], data=data.melt(), x='arm', y='value', scale=0.5, color='k', ci=68, join=False)\n",
    "# axes[1].errorbar(range(2), data.mean(), data.sem(), c='k', fmt='_', zorder=100)\n",
    "\n",
    "test_val, p_val = scipy.stats.wilcoxon(neural_arm['open'], neural_arm['closed'])\n",
    "fig.suptitle('Wilcoxon signed-rank test\\nW: {}\\np: {}'.format(test_val, p_val))\n",
    "fig.tight_layout(rect=[0, 0.03, 1, 0.95])"
   ]
  },
  {
   "cell_type": "code",
   "execution_count": null,
   "metadata": {},
   "outputs": [],
   "source": [
    "t, p = scipy.stats.ttest_rel(\n",
    "    neural_arm['open'],\n",
    "    neural_arm['closed']\n",
    ")\n",
    "\n",
    "data = neural_arm.stack().reset_index().rename(columns={0: 'neural'})\n",
    "arm_type = CategoricalDtype(categories=['closed', 'center', 'open'], ordered=True)\n",
    "data['arm'] = data['arm'].astype(arm_type)\n",
    "\n",
    "fig, ax = plt.subplots()\n",
    "sns.pointplot(\n",
    "    data=data, x='arm', y='neural', hue='response',\n",
    "    order=['closed', 'center', 'open'], hue_order=[-1, 0, 1],\n",
    "    palette=['g', 'gray', 'b'], ci=68, ax=ax\n",
    ")"
   ]
  },
  {
   "cell_type": "code",
   "execution_count": null,
   "metadata": {
    "ExecuteTime": {
     "end_time": "2018-02-13T20:59:10.402205Z",
     "start_time": "2018-02-13T20:59:09.822980Z"
    }
   },
   "outputs": [],
   "source": [
    "counts = neural_arm.groupby('response').count()['center']\n",
    "\n",
    "fig, ax = plt.subplots()\n",
    "counts.plot.pie(ax=ax, colors=['gray', np.array([60, 179, 113])/255., np.array([24, 116, 205])/255.], autopct='%1.1f%%', wedgeprops={'lw': 5, 'ec': 'w'})\n",
    "ax.axis('image')\n",
    "centre_circle = plt.Circle((0, 0), 1 / 1.4142, color='none', fc='white')\n",
    "ax.add_artist(centre_circle);"
   ]
  },
  {
   "cell_type": "code",
   "execution_count": null,
   "metadata": {
    "ExecuteTime": {
     "end_time": "2018-02-13T20:59:08.755743Z",
     "start_time": "2018-02-13T20:59:04.897620Z"
    }
   },
   "outputs": [],
   "source": [
    "data = neural_zone.copy()\n",
    "data = data.drop(itertools.product(bin_labels[1:], ['center']))\n",
    "data = data.drop(itertools.product([0.0], ['closed', 'open']))\n",
    "data = data.drop('na', level='zone')\n",
    "\n",
    "n_rows = data.shape[0]\n",
    "data = data.iloc[list(range(n_rows-2, 0, -2)) + list(range(0, n_rows, 2))]\n",
    "\n",
    "sort_ix_peak = np.nanargmax(data.values, axis=0).argsort()\n",
    "sort_ix = data.mean(axis=0, level='zone')\n",
    "sort_ix = sort_ix.loc['open'] / sort_ix.loc['closed']\n",
    "sort_ix_mean = sort_ix.values.argsort()\n",
    "\n",
    "gridspec_kw = {'height_ratios': [5, 1], 'width_ratios': [1, 1, 0.1]}\n",
    "fig, axes = plt.subplots(nrows=2, ncols=3, figsize=(10, 8), sharex='col', gridspec_kw=gridspec_kw)\n",
    "sns.heatmap(data.iloc[:, sort_ix_peak].T, ax=axes[0, 0], center=0, vmax=2, cmap=cmap, cbar_ax=axes[0, 2]);\n",
    "sns.heatmap(data.iloc[:, sort_ix_mean].T, ax=axes[0, 1], center=0, vmax=2, cmap=cmap, cbar=False);\n",
    "\n",
    "data_long = data.copy()\n",
    "data_long.columns = pd.MultiIndex.from_tuples(\n",
    "    [x + (y, ) for x, y in zip(data.columns, neural_response.loc['group', data.columns].astype(int))],\n",
    "    names=data.columns.names + ['group']\n",
    ")\n",
    "data_long = data_long.stack(list(range(data_long.columns.nlevels))).reset_index().rename(columns={0: 'neural'})\n",
    "data_long['arm_loc'] = data_long['zone'] + ' ' + data_long['Distance to zone'].astype(str)\n",
    "zone_order = (\n",
    "    [' '.join(x) for x in itertools.product(['closed'], bin_labels[-1:0:-1].astype(str))] +\n",
    "    ['center 0.0'] +\n",
    "    [' '.join(x) for x in itertools.product(['open'], bin_labels[1:].astype(str))]\n",
    ")\n",
    "sns.lineplot(data=data_long, x='arm_loc', y='neural', hue='group',\n",
    "             hue_order=[-1, 0, 1], palette=['g', 'gray', 'b'], ci=68, ax=axes[1, 0], sort=False)\n",
    "sns.pointplot(data=data_long, x='arm_loc', y='neural', hue='group', join=False,\n",
    "              order=zone_order, hue_order=[-1, 0, 1], palette=['g', 'gray', 'b'], ci=68, ax=axes[1, 1])\n",
    "for ax in axes[1]:\n",
    "    plt.setp(ax.get_xticklabels(), rotation=90)\n",
    "\n",
    "fig.tight_layout()"
   ]
  },
  {
   "cell_type": "markdown",
   "metadata": {},
   "source": [
    "## Correlations"
   ]
  },
  {
   "cell_type": "code",
   "execution_count": null,
   "metadata": {},
   "outputs": [],
   "source": [
    "# Plot\n",
    "neural_corr_long = neural_corr.xs('r', axis=1, level='stat').stack(list(range(neural_corr.columns.nlevels - 1))).reset_index().rename(columns={0: 'r'})\n",
    "g = sns.FacetGrid(\n",
    "    neural_corr_long, row='feature', col='arm', hue='group',\n",
    "    hue_order=[-1, 0, 1], hue_kws={'color': ['g', 'gray', 'b']}, aspect=1.25\n",
    ")\n",
    "g.map(custom.cdf, 'r').add_legend()\n",
    "\n",
    "# Format\n",
    "for ax, (_, grp_df) in zip(g.axes.flatten(), neural_corr_stats.groupby(level=['feature', 'arm'], axis=1)):\n",
    "    grp_df.columns = grp_df.columns.droplevel(['feature', 'arm'])\n",
    "    ax.set_xlim(-0.75, 0.75)\n",
    "    ax.set_title(\n",
    "        f'{ax.get_title()}\\n'\n",
    "        f\"inh | W: {grp_df.loc[-1, 't']:.2e} p: {grp_df.loc[-1, 'p']:.2e}\\n\"\n",
    "        f\"nc | W: {grp_df.loc[0, 't']:.2e} p: {grp_df.loc[0, 'p']:.2e}\\n\"\n",
    "        f\"exc | W: {grp_df.loc[1, 't']:.2e} p: {grp_df.loc[1, 'p']:.2e}\\n\"\n",
    "    )\n",
    "g.fig.tight_layout()"
   ]
  }
 ],
 "metadata": {
  "kernelspec": {
   "display_name": "Python 3",
   "language": "python",
   "name": "python3"
  },
  "language_info": {
   "codemirror_mode": {
    "name": "ipython",
    "version": 3
   },
   "file_extension": ".py",
   "mimetype": "text/x-python",
   "name": "python",
   "nbconvert_exporter": "python",
   "pygments_lexer": "ipython3",
   "version": "3.7.0"
  },
  "toc": {
   "colors": {
    "hover_highlight": "#DAA520",
    "navigate_num": "#000000",
    "navigate_text": "#333333",
    "running_highlight": "#FF0000",
    "selected_highlight": "#FFD700",
    "sidebar_border": "#EEEEEE",
    "wrapper_background": "#FFFFFF"
   },
   "moveMenuLeft": true,
   "nav_menu": {
    "height": "30px",
    "width": "252px"
   },
   "navigate_menu": true,
   "number_sections": true,
   "sideBar": true,
   "threshold": 4,
   "toc_cell": false,
   "toc_section_display": "block",
   "toc_window_display": false,
   "widenNotebook": false
  }
 },
 "nbformat": 4,
 "nbformat_minor": 2
}
