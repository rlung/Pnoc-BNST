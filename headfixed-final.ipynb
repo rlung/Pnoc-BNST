{
 "cells": [
  {
   "cell_type": "markdown",
   "metadata": {},
   "source": [
    "# Headfixed odor exposure"
   ]
  },
  {
   "cell_type": "code",
   "execution_count": null,
   "metadata": {
    "ExecuteTime": {
     "end_time": "2018-02-05T15:43:48.012352Z",
     "start_time": "2018-02-05T15:43:46.410607Z"
    },
    "nbpresent": {
     "id": "28b4ee29-bf50-41d4-b297-2cfb98735a21"
    }
   },
   "outputs": [],
   "source": [
    "%matplotlib inline\n",
    "import matplotlib.pyplot as plt\n",
    "import numpy as np\n",
    "import pandas as pd\n",
    "import seaborn as sns\n",
    "import h5py as h5\n",
    "import os\n",
    "import time\n",
    "import itertools\n",
    "import scipy.stats\n",
    "import custom"
   ]
  },
  {
   "cell_type": "code",
   "execution_count": null,
   "metadata": {},
   "outputs": [],
   "source": [
    "source_file = './data/headfixed.h5'\n",
    "processed_file = './data/headfixed_cleaned.h5'\n",
    "\n",
    "features = ['pupil', 'track']\n",
    "\n",
    "# Parameters\n",
    "pre = -12000\n",
    "post = 22000\n",
    "bin_size = 200\n",
    "xticklabels = np.arange(-10000, 22000, 5000)\n",
    "xticks = (xticklabels - pre) / bin_size\n",
    "\n",
    "frame_dur = 200\n",
    "epoch_ctrl = 'h2o'\n",
    "\n",
    "idx = pd.IndexSlice"
   ]
  },
  {
   "cell_type": "code",
   "execution_count": null,
   "metadata": {
    "ExecuteTime": {
     "end_time": "2018-02-05T18:09:45.823536Z",
     "start_time": "2018-02-05T18:09:45.542195Z"
    }
   },
   "outputs": [],
   "source": [
    "cmap = custom.diverging_cmap(np.array([60, 179, 113]) / 255., np.array([24, 116, 205]) / 255.)\n",
    "cmap2 = custom.diverging_cmap(np.array([100, 100, 100]) / 255., np.array([186, 141, 56]) / 255.)"
   ]
  },
  {
   "cell_type": "markdown",
   "metadata": {},
   "source": [
    "# Import and setup data"
   ]
  },
  {
   "cell_type": "code",
   "execution_count": null,
   "metadata": {},
   "outputs": [],
   "source": [
    "def pupil_trials(df, axis=1, level=-1, trial_index='trials', bin_size=200, pre=-16000, post=21000):\n",
    "    ''' Organize data into trials\n",
    "    Trials are defined by column `trial_index`.\n",
    "    '''\n",
    "\n",
    "    pre_bins = pre / bin_size\n",
    "    post_bins = post / bin_size\n",
    "    column_names = df.columns.names\n",
    "\n",
    "    # Find unique animals from certain pattern in experiment names\n",
    "    # subjects = np.unique([x.split('_')[0] for x in df.columns.levels[0]])\n",
    "\n",
    "    exps = df.xs(trial_index, axis=axis, level=level).columns\n",
    "    exps_dict = {}\n",
    "\n",
    "    # Iterate over experiments (different planes are separate experiments)\n",
    "    for exp in exps:\n",
    "        epochs_dict = {}\n",
    "\n",
    "        # Iterate over epochs\n",
    "        for epoch in df[exp].index.levels[0]:\n",
    "            df_epoch = df.loc[epoch, exp]\n",
    "            trial_starts = df_epoch[df_epoch[trial_index] == 1].index\n",
    "            trial_window = zip(trial_starts + pre, trial_starts + post - bin_size)\n",
    "            trials_dict = {}      # Initialize list of dataframes for each trial\n",
    "\n",
    "            # Iterate over trials\n",
    "            for n, x in enumerate(trial_window):\n",
    "                # Get subset of dataframe for current trial window\n",
    "                trial = df_epoch.loc[slice(*x), :]\n",
    "\n",
    "                # Define new index (based on time relative to trial)\n",
    "                # Need to define index relative to current index in case of missing data.\n",
    "                index_vals = np.arange(pre, post, bin_size)\n",
    "                time_trial_time = pd.DataFrame({\n",
    "                    'trial_time': index_vals,\n",
    "                    'time': np.linspace(*(x + (len(index_vals), )), dtype=int)\n",
    "                })\n",
    "                time_trial_time = time_trial_time.set_index('time')\n",
    "\n",
    "                # Add and set new index\n",
    "                trial = pd.concat([trial, time_trial_time], axis=1)\n",
    "                trial.columns.names = [column_names[-1]]\n",
    "                trial = trial.reset_index(level='time')\n",
    "                trial = trial.set_index('trial_time')\n",
    "                trials_dict[n] = trial\n",
    "\n",
    "            trials_df = pd.concat(trials_dict, names=['trial'], axis=1)\n",
    "            epochs_dict[epoch] = trials_df\n",
    "            \n",
    "        epochs_df = pd.concat(epochs_dict, names=['epoch'], axis=0)\n",
    "        exps_dict[exp] = epochs_df\n",
    "        \n",
    "    exps_df = pd.concat(exps_dict, names=exps.names, axis=axis)\n",
    "    exps_df = exps_df.sort_index(axis=axis)  # Allows for indexing (killed myself over this)\n",
    "\n",
    "    return exps_df\n",
    "\n",
    "\n",
    "def get_trials(df, axis=1, level=-1, trial_index='trials', bin_size=200, pre=-16000, post=21000):\n",
    "    ''' Organize data into trials\n",
    "    Trials are defined by index `trial_index` in axis `axis` and level `level`. \n",
    "    '''\n",
    "\n",
    "    pre_bins = pre / bin_size\n",
    "    post_bins = post / bin_size\n",
    "    column_names = df.columns.names\n",
    "\n",
    "    # Find unique animals from certain pattern in experiment names\n",
    "    # subjects = np.unique([x.split('_')[0] for x in df.columns.levels[0]])\n",
    "\n",
    "    exps = df.xs(trial_index, axis=axis, level=level).columns\n",
    "    exps_dict = {}\n",
    "\n",
    "    # Iterate over experiments (different planes are separate experiments)\n",
    "    for exp in exps:\n",
    "        epochs_dict = {}\n",
    "\n",
    "        # Iterate over epochs\n",
    "        for epoch in df[exp].index.levels[0]:\n",
    "            df_epoch = df.loc[epoch, exp]\n",
    "            trial_starts = df_epoch[df_epoch[trial_index] == 1].index\n",
    "            trial_window = zip(trial_starts + pre, trial_starts + post - bin_size)\n",
    "            trials_dict = {}      # Initialize list of dataframes for each trial\n",
    "\n",
    "            # Iterate over trials\n",
    "            for n, x in enumerate(trial_window):\n",
    "                # Get subset of dataframe for current trial window\n",
    "                trial = df_epoch.loc[slice(*x), :]\n",
    "\n",
    "                # Define new index (based on time relative to trial)\n",
    "                # Need to define index relative to current index in case of missing data.\n",
    "                index_vals = np.arange(pre, post, bin_size)\n",
    "                trial_index = pd.DataFrame({\n",
    "                    'trial_time': index_vals,\n",
    "                    'time': np.linspace(*(x + (len(index_vals), )), dtype=int)\n",
    "                })\n",
    "                trial_index = trial_index.set_index('time')\n",
    "\n",
    "                # Add and set new index\n",
    "                trial = pd.concat([trial, trial_index], axis=1)\n",
    "                trial.columns.names = [column_names[-1]]\n",
    "                trial = trial.reset_index(level='time')\n",
    "                trial = trial.set_index('trial_time')\n",
    "                trials_dict[n] = trial\n",
    "\n",
    "            trials_df = pd.concat(trials_dict, names=['trial'], axis=1)\n",
    "            epochs_dict[epoch] = trials_df\n",
    "            \n",
    "        epochs_df = pd.concat(epochs_dict, names=['epoch'], axis=0)\n",
    "        exps_dict[exp] = epochs_df\n",
    "        \n",
    "    exps_df = pd.concat(exps_dict, names=exps.names, axis=axis)\n",
    "    exps_df = exps_df.sort_index(axis=axis)  # Allows for indexing (killed myself over this)\n",
    "\n",
    "    return exps_df"
   ]
  },
  {
   "cell_type": "markdown",
   "metadata": {},
   "source": [
    "## Import data"
   ]
  },
  {
   "cell_type": "code",
   "execution_count": null,
   "metadata": {
    "ExecuteTime": {
     "end_time": "2018-02-05T15:44:11.951686Z",
     "start_time": "2018-02-05T15:44:11.003214Z"
    },
    "code_folding": [],
    "nbpresent": {
     "id": "f44f6780-7452-468e-bc86-61e3e50029bb"
    }
   },
   "outputs": [],
   "source": [
    "with pd.HDFStore(filename, mode='r') as hf:\n",
    "    # Only get first plane and remove baseline epoch\n",
    "    df_behav = hf['behav'].loc[(['h2o', 'odor']), (slice(None), slice(None), 'P1')]\n",
    "    df_neural = hf['neural'][neural_type].loc[(['h2o', 'odor']), (slice(None), slice(None), 'P1')].astype(float)  # need to cast since it's object type\n",
    "    \n",
    "    # Clean\n",
    "    df_behav.columns = df_behav.columns.droplevel(level='plane')\n",
    "    df_neural.columns = df_neural.columns.droplevel(level='plane')"
   ]
  },
  {
   "cell_type": "markdown",
   "metadata": {},
   "source": [
    "## Normalize data"
   ]
  },
  {
   "cell_type": "markdown",
   "metadata": {},
   "source": [
    "Data is **scaled** so that one unit is equal to standard deviation (calculated during water exposure for a particular neuron).  \n",
    "Data is **centered** on its median activity during water exposure."
   ]
  },
  {
   "cell_type": "code",
   "execution_count": null,
   "metadata": {
    "ExecuteTime": {
     "end_time": "2018-02-05T15:44:29.383948Z",
     "start_time": "2018-02-05T15:44:29.309436Z"
    },
    "code_folding": []
   },
   "outputs": [],
   "source": [
    "# Standardize variance (std = 1) to baseline\n",
    "stds = df_neural.loc[epoch_ctrl].std()\n",
    "df_neural_norm = (df_neural - df_neural.loc[epoch_ctrl].median()) / stds"
   ]
  },
  {
   "cell_type": "markdown",
   "metadata": {},
   "source": [
    "Behavior data is standardized (divide by standard deviation). Track is NOT centered on its mean. Absolute data is taken on track to get 'movement' measure."
   ]
  },
  {
   "cell_type": "code",
   "execution_count": null,
   "metadata": {
    "ExecuteTime": {
     "end_time": "2018-02-05T15:44:30.266300Z",
     "start_time": "2018-02-05T15:44:30.038762Z"
    }
   },
   "outputs": [],
   "source": [
    "# Clean & normalize\n",
    "\n",
    "df_behav_orig = df_behav.copy()\n",
    "\n",
    "# Normalize pupil\n",
    "ix_col = idx[:, :, :, 'pupil']\n",
    "filtered = df_behav.loc[:, ix_col].groupby(level='epoch').rolling(5, center=True).median()\n",
    "filtered.index = filtered.index.droplevel(0)\n",
    "df_behav.loc[:, ix_col] = filtered\n",
    "pupil_mean = filtered.loc[epoch_ctrl, ix_col].mean()\n",
    "pupil_std = filtered.loc[epoch_ctrl, ix_col].std()\n",
    "df_behav.loc[:, ix_col] -= pupil_mean\n",
    "df_behav.loc[:, ix_col] *= 1 / pupil_std\n",
    "\n",
    "# Normalize track\n",
    "# Take absolute value to capture 'movement'\n",
    "ix_col = idx[:, :, :, 'track']\n",
    "filtered = df_behav.loc[:, ix_col].groupby(level='epoch').rolling(5, center=True).mean()\n",
    "filtered.index = filtered.index.droplevel(0)\n",
    "df_behav.loc[:, ix_col] = np.abs(filtered)"
   ]
  },
  {
   "cell_type": "markdown",
   "metadata": {
    "ExecuteTime": {
     "end_time": "2018-02-05T15:44:34.572429Z",
     "start_time": "2018-02-05T15:44:33.658389Z"
    },
    "code_folding": []
   },
   "source": [
    "## Create trial structure"
   ]
  },
  {
   "cell_type": "code",
   "execution_count": null,
   "metadata": {
    "ExecuteTime": {
     "end_time": "2018-02-05T15:44:34.572429Z",
     "start_time": "2018-02-05T15:44:33.658389Z"
    },
    "code_folding": []
   },
   "outputs": [],
   "source": [
    "df = pd.concat([df_behav, df_neural_norm], axis=1)\n",
    "df = df.sort_index(axis=1)\n",
    "df_trials = pupil_trials(df, bin_size=bin_size, pre=pre, post=post)\n",
    "\n",
    "# Break up data into neural and behavioral\n",
    "neural = df_trials.iloc[:, [not isinstance(s, basestring) for s in df_trials.columns.get_level_values(-1)]]\n",
    "neural.columns.names = df_trials.columns.names[:-1] + ['neuron']\n",
    "# behav = df_trials.iloc[:, [isinstance(s, basestring) for s in df_trials.columns.get_level_values(-1)]]\n",
    "behav = df_trials.loc[:, idx[:, :, :, :, ['pupil', 'track']]]\n",
    "behav.columns.names = df_trials.columns.names[:-1] + ['feature']\n",
    "\n",
    "# Add epoch names\n",
    "neural.loc[:, 'time_epoch'] = [\n",
    "    '0 pre' if -12000 <= ts < -6000 else\n",
    "    '1 na' if -6000 <= ts < 0 else\n",
    "    '2 response' if 0 <= ts < 10000 else\n",
    "    '3 na' if 10000 <= ts < 16000 else\n",
    "    '4 post' if 16000 <= ts < 22000 else\n",
    "    'na'\n",
    "    for ts in neural.reset_index('trial_time')['trial_time']\n",
    "]\n",
    "neural = neural.set_index('time_epoch', append=True).reorder_levels(['epoch', 'time_epoch', 'trial_time'])\n",
    "\n",
    "behav.loc[:, 'time_epoch'] = [\n",
    "    '0 pre' if -12000 <= ts < -6000 else\n",
    "    '1 na' if -6000 <= ts < 0 else\n",
    "    '2 response' if 0 <= ts < 10000 else\n",
    "    '3 na' if 10000 <= ts < 16000 else\n",
    "    '4 post' if 16000 <= ts < 22000 else\n",
    "    'na'\n",
    "    for ts in behav.reset_index('trial_time')['trial_time']\n",
    "]\n",
    "behav = behav.set_index('time_epoch', append=True).reorder_levels(['epoch', 'time_epoch', 'trial_time'])"
   ]
  },
  {
   "cell_type": "code",
   "execution_count": null,
   "metadata": {},
   "outputs": [],
   "source": [
    "with pd.HDFStore(output_data) as df_out:\n",
    "    df_out['neural'] = neural#_response\n",
    "    df_out['behav'] = behav#_response"
   ]
  },
  {
   "cell_type": "markdown",
   "metadata": {},
   "source": [
    "# Import processed data"
   ]
  },
  {
   "cell_type": "code",
   "execution_count": null,
   "metadata": {},
   "outputs": [],
   "source": [
    "with pd.HDFStore(processed_file) as df_out:\n",
    "    neural_response = df_out['neural']\n",
    "    behav_response = df_out['behav']\n",
    "\n",
    "# Keep first two trials and first exposure (order A) only\n",
    "neural_response = neural_response.loc[:, idx['TMT', :, 'A', [0, 1]]]\n",
    "behav_response = behav_response.loc[:, idx['TMT', :, 'A', [0, 1]]]\n",
    "\n",
    "# Create long format dataframe\n",
    "neural_response_long = neural_response.stack(list(range(neural_response.columns.nlevels))).reset_index().rename({0: 'value'}, axis=1)\n",
    "behav_response_long = behav_response.stack(list(range(behav_response.columns.nlevels))).reset_index().rename({0: 'value'}, axis=1)"
   ]
  },
  {
   "cell_type": "markdown",
   "metadata": {},
   "source": [
    "# Visualize data"
   ]
  },
  {
   "cell_type": "markdown",
   "metadata": {},
   "source": [
    "## Behavior"
   ]
  },
  {
   "cell_type": "code",
   "execution_count": null,
   "metadata": {
    "ExecuteTime": {
     "end_time": "2018-02-05T18:14:17.412974Z",
     "start_time": "2018-02-05T18:14:10.363191Z"
    },
    "code_folding": []
   },
   "outputs": [],
   "source": [
    "# Pupil and velocity plots\n",
    "\n",
    "def behavior_plots(data, plt_name=None, vmin=-2, vmax=2):\n",
    "    fig, axes = plt.subplots(2, 2, sharex=True, sharey='row', figsize=(12, 5))\n",
    "    fig_cb, ax_cb = plt.subplots(figsize=(0.25, 4))\n",
    "    \n",
    "    for n, (epoch, df) in enumerate(data.groupby(axis=0, level='epoch')):\n",
    "        df.index = df.index.droplevel('epoch')\n",
    "        \n",
    "        C = df.copy()\n",
    "        C.index = C.index.droplevel('time_epoch')\n",
    "        sns.heatmap(C.T, ax=axes[0, n], cbar_ax=ax_cb, center=0, cmap=cmap2, vmin=vmin, vmax=vmax)\n",
    "        im = axes[0, n].collections[0]\n",
    "        \n",
    "        Y = df.mean(axis=1)\n",
    "        E = df.sem(axis=1)\n",
    "        Y.plot(ax=axes[1, n])\n",
    "        X = axes[1, n].lines[0].get_xdata()\n",
    "        axes[1, n].fill_between(X, Y + E, Y - E, alpha=0.2)\n",
    "        axes[0, n].set_xticks(xticks)\n",
    "        axes[0, n].set_xticklabels(xticklabels)\n",
    "\n",
    "for feature, v in zip(['pupil', 'track'], [[-5, 5], [0, 250]]):\n",
    "    ix_col = idx[:, :, :, :, feature]\n",
    "    behavior_plots(behav_response.loc[:, ix_col], vmin=v[0], vmax=v[1])"
   ]
  },
  {
   "cell_type": "code",
   "execution_count": null,
   "metadata": {},
   "outputs": [],
   "source": [
    "data = behav_response_long.groupby(['epoch', 'time_epoch', 'subject', 'feature']).mean()['value'].reset_index()\n",
    "\n",
    "time_epochs = ['0 pre', '2 response', '4 post']\n",
    "g = sns.FacetGrid(data, col='feature', hue='epoch', hue_order=['h2o', 'odor'], sharey=False)\n",
    "g.map(sns.pointplot, 'time_epoch', 'value', order=time_epochs, ci=68).add_legend()"
   ]
  },
  {
   "cell_type": "markdown",
   "metadata": {},
   "source": [
    "## Neural data"
   ]
  },
  {
   "cell_type": "code",
   "execution_count": null,
   "metadata": {
    "ExecuteTime": {
     "end_time": "2018-02-05T15:45:13.763342Z",
     "start_time": "2018-02-05T15:45:10.857416Z"
    },
    "code_folding": [
     2
    ],
    "scrolled": false
   },
   "outputs": [],
   "source": [
    "# Neural plots\n",
    "\n",
    "def activity_heatmap(data, max_z=4):\n",
    "    fig, axes  = plt.subplots(ncols=2, sharey='row', sharex=True, figsize=(8, 4))\n",
    "    fig_cb, ax_cb = plt.subplots(figsize=(0.25, 4))\n",
    "\n",
    "    ims = []\n",
    "    for n, (grp, df) in enumerate(data.groupby(axis=0, level='epoch')):\n",
    "        df.index = df.index.droplevel('epoch')\n",
    "        \n",
    "        # Plot heatmap\n",
    "        C = df.copy()\n",
    "        C.columns = np.arange(C.shape[1])\n",
    "        C.index = C.index.droplevel('time_epoch')\n",
    "        sns.heatmap(C.T, ax=axes[n], cbar_ax=ax_cb, cmap=cmap, vmin=-max_z, vmax=max_z, yticklabels=C.shape[1] - 1)\n",
    "        axes[n].set_title(grp)\n",
    "        ims.append(axes[n].collections[0])\n",
    "        \n",
    "        # Remove spines\n",
    "        sns.despine(ax=axes[n], left=True, bottom=True)\n",
    "        sns.despine(ax=axes[n], left=True, bottom=True)\n",
    "\n",
    "    axes[0].set_ylabel('Neurons');\n",
    "    axes[0].set_ylabel('Average neural response');\n",
    "    \n",
    "    fig.tight_layout()\n",
    "\n",
    "# Sorting\n",
    "sort_ix = np.argsort(neural_response.loc[('odor', '2 response'), :].mean().mean(level=['subject', 'neuron']).as_matrix())[::-1]\n",
    "\n",
    "# Plot\n",
    "data = neural_response.mean(axis=1, level=['subject', 'neuron']).iloc[:, sort_ix]\n",
    "activity_heatmap(data)"
   ]
  },
  {
   "cell_type": "code",
   "execution_count": null,
   "metadata": {},
   "outputs": [],
   "source": [
    "data = neural_response_long.groupby(['experiment', 'epoch', 'time_epoch', 'order', 'subject', 'neuron']).mean()['value'].reset_index()\n",
    "\n",
    "time_epochs = ['0 pre', '2 response', '4 post']\n",
    "sns.pointplot(data=data, x='time_epoch', y='value', hue='epoch', order=time_epochs, ci=68)"
   ]
  },
  {
   "cell_type": "markdown",
   "metadata": {},
   "source": [
    "# Group neurons"
   ]
  },
  {
   "cell_type": "markdown",
   "metadata": {},
   "source": [
    "## Statistical difference"
   ]
  },
  {
   "cell_type": "markdown",
   "metadata": {},
   "source": [
    "_Should activity during exposure be subtracted by average before conveyor movement??_"
   ]
  },
  {
   "cell_type": "code",
   "execution_count": null,
   "metadata": {
    "ExecuteTime": {
     "end_time": "2018-01-30T10:33:49.708128Z",
     "start_time": "2018-01-30T10:33:46.796100Z"
    },
    "collapsed": true
   },
   "outputs": [],
   "source": [
    "thresh_data = neural_response.mean(axis=1, level=['experiment', 'subject', 'neuron'])\n",
    "n_neurons = thresh_data.shape[1]\n",
    "alpha = 0.05\n",
    "p_thresh = alpha / n_neurons  # Bonferroni correction\n",
    "\n",
    "grouping = pd.DataFrame(\n",
    "    columns=pd.MultiIndex.from_product([['h2o', 'odor'], ['p', 'sign', 'group']]),\n",
    "    index=thresh_data.columns,\n",
    "    dtype=float\n",
    ")\n",
    "\n",
    "for ep in ['h2o', 'odor']:\n",
    "    for n, neuron in enumerate(thresh_data):\n",
    "        X = thresh_data.loc[(ep, '0 pre'), neuron]\n",
    "        Y = thresh_data.loc[(ep, '2 response'), neuron]\n",
    "        if len(np.unique(np.concatenate((X, Y)))) > 1:\n",
    "            _, grouping.loc[neuron, (ep, 'p')] = scipy.stats.mannwhitneyu(X, Y)\n",
    "            grouping.loc[neuron, (ep, 'sign')] = np.sign(Y.mean() - X.mean())\n",
    "\n",
    "        if grouping.loc[neuron, (ep, 'p')] < p_thresh:\n",
    "            grouping.loc[neuron, (ep, 'group')] = grouping.loc[neuron, (ep, 'sign')] \n",
    "        else:\n",
    "            grouping.loc[neuron, (ep, 'group')] = 0\n",
    "\n",
    "grouping.loc[:, idx[:, ['sign', 'group']]] = grouping.loc[:, idx[:, ['sign', 'group']]].astype(int)"
   ]
  },
  {
   "cell_type": "code",
   "execution_count": null,
   "metadata": {},
   "outputs": [],
   "source": [
    "X = grouping[('odor', 'group')].value_counts().sort_index()\n",
    "\n",
    "fig, ax = plt.subplots()\n",
    "ax.pie(X, labels=X.index, autopct='%1.1f%%')\n",
    "circle = plt.Circle((0, 0), 0.7071, color='white')\n",
    "ax.add_artist(circle)\n",
    "plt.axis('equal');"
   ]
  },
  {
   "cell_type": "code",
   "execution_count": null,
   "metadata": {
    "ExecuteTime": {
     "end_time": "2018-01-30T10:34:30.625198Z",
     "start_time": "2018-01-30T10:34:27.694848Z"
    }
   },
   "outputs": [],
   "source": [
    "data = pd.concat([thresh_data.T, grouping.loc['group'].T], axis=1).set_index(['h2o', 'odor'], append=True).T\n",
    "data.index = pd.MultiIndex.from_tuples(data.index, names=['epoch', 'time_epoch', 'trial_time'])\n",
    "\n",
    "fig, axes = plt.subplots(nrows=2, ncols=3, sharey=True, figsize=(15, 10))\n",
    "\n",
    "for ax, (grp, df) in zip(axes.T, data.groupby(axis=0, level='epoch')):\n",
    "    Y = data.loc[grp].mean(axis=1, level=['odor']).rolling(5, center=True).mean()\n",
    "    E = data.loc[grp].sem(axis=1, level=['odor']).rolling(5, center=True).mean()\n",
    "    Y.plot(ax=ax[0]);\n",
    "    X = ax[0].lines[0].get_xdata()\n",
    "    \n",
    "    for n in range(Y.shape[1]):\n",
    "        y = Y.as_matrix()[:, n]\n",
    "        e = E.as_matrix()[:, n]\n",
    "        ix = ~ (np.isnan(y) + np.isnan(e))\n",
    "        ax[0].fill_between(X[ix], y[ix] - e[ix], y[ix] + e[ix], alpha=0.25)\n",
    "    \n",
    "#     Y1 = data.loc[(grp, ['0 pre', '2 response']), :].mean(axis=0, level='time_epoch').mean(axis=1, level=['subject', 'odor'])\n",
    "#     y = Y1.mean(axis=1, level=['odor'])\n",
    "#     e = Y1.sem(axis=1, level=['odor'])\n",
    "#     y.plot(ax=ax[1], yerr=e, marker='o')"
   ]
  },
  {
   "cell_type": "markdown",
   "metadata": {},
   "source": [
    "# Correlation"
   ]
  },
  {
   "cell_type": "code",
   "execution_count": null,
   "metadata": {
    "ExecuteTime": {
     "end_time": "2018-01-24T02:38:59.320137Z",
     "start_time": "2018-01-24T02:38:56.464037Z"
    },
    "collapsed": true,
    "scrolled": true
   },
   "outputs": [],
   "source": [
    "features = ['pupil', 'track']\n",
    "\n",
    "behav_corr_data = behav_response.loc[(slice(None), ['0 pre', '2 response', '4 post']), :].unstack('epoch').stack('trial')\n",
    "neural_corr_data = neural_response.loc[(slice(None), ['0 pre', '2 response', '4 post']), :].unstack('epoch').stack('trial')\n",
    "\n",
    "behav_corr_data = behav_corr_data.groupby(level='time_epoch').apply(lambda x: x.reset_index(drop=True))\n",
    "neural_corr_data = neural_corr_data.groupby(level='time_epoch').apply(lambda x: x.reset_index(drop=True))\n",
    "\n",
    "corrs = np.zeros((4, neural_corr_data.shape[1]), dtype=float) * np.nan\n",
    "corrs = pd.DataFrame(corrs, index=pd.MultiIndex.from_product([features, ['r', 'p']]), columns=neural_corr_data.columns)\n",
    "for obs_key in neural_corr_data:\n",
    "    exp, subj, _, neuron, epoch = obs_key\n",
    "    obs_neural = neural_corr_data[obs_key]\n",
    "    for feature in features:\n",
    "        obs_behav = behav_corr_data[subj, feature, epoch]\n",
    "        na_ix = obs_behav.isna() | obs_neural.isna()\n",
    "        corrs.loc[feature, obs_key] = scipy.stats.pearsonr(obs_behav[~na_ix].dropna(), obs_neural[~na_ix].dropna())"
   ]
  },
  {
   "cell_type": "code",
   "execution_count": null,
   "metadata": {
    "ExecuteTime": {
     "end_time": "2018-01-24T03:02:16.421427Z",
     "start_time": "2018-01-24T03:02:14.356717Z"
    },
    "scrolled": false
   },
   "outputs": [],
   "source": [
    "# Plot\n",
    "\n",
    "b = pd.concat([corrs.stack('epoch'), grouping.loc['group']], axis=0).T.set_index(['h2o', 'odor'], append=True).T\n",
    "b.index = pd.MultiIndex.from_tuples(b.index, names=['feature', 'stat', 'epoch'])\n",
    "\n",
    "fig, axes = plt.subplots(ncols=2, sharex=True, sharey=True, figsize=(10, 5))\n",
    "for n, feature in enumerate(features):\n",
    "#     ctrl = corrs.loc[(feature, 'r'), (slice(None), slice(None), 'h2o')].dropna()\n",
    "#     exp = corrs.loc[(feature, 'r'), (slice(None), slice(None), 'odor')].dropna()\n",
    "    datasets = {}\n",
    "    for ep in ['h2o', 'odor']:\n",
    "        for grp in [-1, 0, 1]:\n",
    "            datasets[(ep, grp)] = Y = b.loc[(feature, 'r', ep), (slice(None), slice(None), slice(None), grp)].dropna()\n",
    "            custom.cdf(Y, ax=axes[n], label=' '.join([ep, str(grp)]), ignore_nan=False)\n",
    "            if ep == 'h2o' and grp == -1:\n",
    "                Y_ = Y\n",
    "    axes[n].legend()\n",
    "    axes[n].set_xlabel('r')\n",
    "\n",
    "    pairs = itertools.combinations(datasets.keys(), 2)\n",
    "    post_hocs = []\n",
    "    for (x_ep, x_grp), (y_ep, y_grp) in pairs:\n",
    "        xset = b.loc[(feature, 'r', x_ep), (slice(None), slice(None), slice(None), x_grp)]\n",
    "        yset = b.loc[(feature, 'r', y_ep), (slice(None), slice(None), slice(None), y_grp)]\n",
    "        w, p = scipy.stats.mannwhitneyu(xset, yset)\n",
    "        post_hocs.append('{} vs {} p val: {}'.format((x_ep, x_grp), (y_ep, y_grp), p))\n",
    "    axes[n].set_title('\\n'.join(post_hocs))"
   ]
  },
  {
   "cell_type": "code",
   "execution_count": null,
   "metadata": {
    "ExecuteTime": {
     "end_time": "2018-01-24T03:02:16.421427Z",
     "start_time": "2018-01-24T03:02:14.356717Z"
    },
    "scrolled": false
   },
   "outputs": [],
   "source": [
    "# Plot\n",
    "\n",
    "b = pd.concat([corrs.stack('epoch'), grouping.loc['group']], axis=0).T.set_index(['h2o', 'odor'], append=True).T\n",
    "b.index = pd.MultiIndex.from_tuples(b.index, names=['feature', 'stat', 'epoch'])\n",
    "\n",
    "fig, axes = plt.subplots(ncols=2, sharex=True, sharey=True, figsize=(15, 5))\n",
    "for n, feature in enumerate(features):\n",
    "#     ctrl = corrs.loc[(feature, 'r'), (slice(None), slice(None), 'h2o')].dropna()\n",
    "#     exp = corrs.loc[(feature, 'r'), (slice(None), slice(None), 'odor')].dropna()\n",
    "    datasets = {}\n",
    "    for ep in ['h2o', 'odor']:\n",
    "        for grp in [-1, 0, 1]:\n",
    "            datasets[(ep, grp)] = Y = b.loc[(feature, 'r', ep), (slice(None), slice(None), slice(None), grp)].dropna()\n",
    "            custom.cdf(Y, ax=axes[n], label=' '.join([ep, str(grp)]), ignore_nan=False)\n",
    "            if ep == 'h2o' and grp == -1:\n",
    "                Y_ = Y\n",
    "    axes[n].legend()\n",
    "    axes[n].set_xlabel('r')\n",
    "\n",
    "    pairs = itertools.combinations(datasets.keys(), 2)\n",
    "    post_hocs = []\n",
    "    for (x_ep, x_grp), (y_ep, y_grp) in pairs:\n",
    "        xset = b.loc[(feature, 'r', x_ep), (slice(None), slice(None), slice(None), x_grp)]\n",
    "        yset = b.loc[(feature, 'r', y_ep), (slice(None), slice(None), slice(None), y_grp)]\n",
    "        u, p = scipy.stats.mannwhitneyu(xset, yset)\n",
    "        post_hocs.append('{} vs {}, u: {}, p: {}'.format((x_ep, x_grp), (y_ep, y_grp), u, p))\n",
    "    axes[n].set_title(feature + '\\n' + '\\n'.join(post_hocs))"
   ]
  },
  {
   "cell_type": "code",
   "execution_count": null,
   "metadata": {},
   "outputs": [],
   "source": []
  }
 ],
 "metadata": {
  "anaconda-cloud": {},
  "kernelspec": {
   "display_name": "Python [conda env:py27]",
   "language": "python",
   "name": "conda-env-py27-py"
  },
  "language_info": {
   "codemirror_mode": {
    "name": "ipython",
    "version": 2
   },
   "file_extension": ".py",
   "mimetype": "text/x-python",
   "name": "python",
   "nbconvert_exporter": "python",
   "pygments_lexer": "ipython2",
   "version": "2.7.15"
  },
  "nbpresent": {
   "slides": {
    "00a0addc-2337-4169-a659-143e32f8baaf": {
     "id": "00a0addc-2337-4169-a659-143e32f8baaf",
     "prev": null,
     "regions": {
      "04a409d2-a98b-4156-a504-37aaeefd7851": {
       "attrs": {
        "height": 0.8,
        "width": 0.8,
        "x": 0.1,
        "y": 0.1
       },
       "content": {
        "cell": "f4c2665c-6204-4c64-83c3-5ea430a8f333",
        "part": "whole"
       },
       "id": "04a409d2-a98b-4156-a504-37aaeefd7851"
      }
     }
    },
    "04beb617-7124-44b8-a41d-f2d075b84120": {
     "id": "04beb617-7124-44b8-a41d-f2d075b84120",
     "prev": "f9a058db-4c88-40c3-a2e0-d89a8f56a295",
     "regions": {
      "f9b60a04-0961-4b6d-b31e-63eb9a3726d7": {
       "attrs": {
        "height": 0.8,
        "width": 0.8,
        "x": 0.1,
        "y": 0.1
       },
       "content": {
        "cell": "78be2377-7b68-4912-88d8-3d447fdd5da0",
        "part": "whole"
       },
       "id": "f9b60a04-0961-4b6d-b31e-63eb9a3726d7"
      }
     }
    },
    "08f5c450-d84b-493e-a2cf-173a815f986b": {
     "id": "08f5c450-d84b-493e-a2cf-173a815f986b",
     "prev": "a7395395-0212-4782-9bae-baf0ee8ce90c",
     "regions": {
      "a94facd0-1943-4e52-bf69-f2e91fb7e116": {
       "attrs": {
        "height": 0.8,
        "width": 0.8,
        "x": 0.1,
        "y": 0.1
       },
       "content": {
        "cell": "9c16c7e9-7278-4fa9-8015-6fc5c9455377",
        "part": "whole"
       },
       "id": "a94facd0-1943-4e52-bf69-f2e91fb7e116"
      }
     }
    },
    "0fb322a8-6116-457d-a7fe-f9d17e56d898": {
     "id": "0fb322a8-6116-457d-a7fe-f9d17e56d898",
     "prev": "b8279860-2ea1-43ec-843c-17f66722cbb9",
     "regions": {
      "fba2126b-3763-478f-ad27-1cef75247257": {
       "attrs": {
        "height": 0.8,
        "width": 0.8,
        "x": 0.1,
        "y": 0.1
       },
       "content": {
        "cell": "6c234f58-e7ee-4ac9-9a5d-86b7159b4958",
        "part": "whole"
       },
       "id": "fba2126b-3763-478f-ad27-1cef75247257"
      }
     }
    },
    "25084269-a765-46ab-a1cd-f3ac2f4f1d42": {
     "id": "25084269-a765-46ab-a1cd-f3ac2f4f1d42",
     "prev": "595463e9-07df-4c4e-91bf-0e60662ec502",
     "regions": {
      "09d86b5b-8137-4b58-a679-8f91e1ee7a11": {
       "attrs": {
        "height": 0.8,
        "width": 0.8,
        "x": 0.1,
        "y": 0.1
       },
       "content": {
        "cell": "e4ea70a6-5172-4771-bab9-7cdf91778aab",
        "part": "whole"
       },
       "id": "09d86b5b-8137-4b58-a679-8f91e1ee7a11"
      }
     }
    },
    "2bddc9f9-fda7-4505-bf54-191122bec717": {
     "id": "2bddc9f9-fda7-4505-bf54-191122bec717",
     "prev": "d4df9c7d-286f-45c6-9ef8-c719d1f65bb3",
     "regions": {
      "1f0050d6-0c7b-4c03-be1c-6cbb86e3234e": {
       "attrs": {
        "height": 0.8,
        "width": 0.8,
        "x": 0.1,
        "y": 0.1
       },
       "content": {
        "cell": "28b4ee29-bf50-41d4-b297-2cfb98735a21",
        "part": "whole"
       },
       "id": "1f0050d6-0c7b-4c03-be1c-6cbb86e3234e"
      }
     }
    },
    "37360440-31fa-43ec-82d7-7e7691253476": {
     "id": "37360440-31fa-43ec-82d7-7e7691253476",
     "prev": "df72a77e-dada-439d-ac5c-fbb5f2e5be19",
     "regions": {
      "2d65deb3-4840-4b8d-926d-0636fb2061e4": {
       "attrs": {
        "height": 0.8,
        "width": 0.8,
        "x": 0.1,
        "y": 0.1
       },
       "content": {
        "cell": "2f564556-866a-4fd3-878c-18df9cea6961",
        "part": "whole"
       },
       "id": "2d65deb3-4840-4b8d-926d-0636fb2061e4"
      }
     }
    },
    "3a955279-ffa7-499e-9a49-c931404e160a": {
     "id": "3a955279-ffa7-499e-9a49-c931404e160a",
     "prev": "a99c2261-4bfc-4544-9389-7f02d85e555a",
     "regions": {
      "756efd33-9dd8-40f0-bbc5-2ed252137e1f": {
       "attrs": {
        "height": 0.8,
        "width": 0.8,
        "x": 0.1,
        "y": 0.1
       },
       "content": {
        "cell": "131784be-8442-4b05-971d-5a3cd161c5dc",
        "part": "whole"
       },
       "id": "756efd33-9dd8-40f0-bbc5-2ed252137e1f"
      }
     }
    },
    "595463e9-07df-4c4e-91bf-0e60662ec502": {
     "id": "595463e9-07df-4c4e-91bf-0e60662ec502",
     "prev": "e309aa73-93b2-44ba-9ac9-3fdb2e050e9a",
     "regions": {
      "14f6a946-1be5-4013-b0a9-6d76ec7de7ce": {
       "attrs": {
        "height": 0.8,
        "width": 0.8,
        "x": 0.1,
        "y": 0.1
       },
       "content": {
        "cell": "9e9c54c5-110b-4cfc-9764-9c2b0aa5fa5c",
        "part": "whole"
       },
       "id": "14f6a946-1be5-4013-b0a9-6d76ec7de7ce"
      }
     }
    },
    "6e292ca4-fe6c-4148-97ae-5c56d1a133a4": {
     "id": "6e292ca4-fe6c-4148-97ae-5c56d1a133a4",
     "prev": "d55fabd7-b803-4dae-a316-31da7f3f2fe6",
     "regions": {
      "a5656379-f85b-4b57-bc41-b12cf71308b1": {
       "attrs": {
        "height": 0.8,
        "width": 0.8,
        "x": 0.1,
        "y": 0.1
       },
       "content": {
        "cell": "3d5233ba-1792-451f-8062-592cb283fe26",
        "part": "whole"
       },
       "id": "a5656379-f85b-4b57-bc41-b12cf71308b1"
      }
     }
    },
    "6f46fb34-3390-4563-8db3-9b476d0ddada": {
     "id": "6f46fb34-3390-4563-8db3-9b476d0ddada",
     "prev": "7c1ea371-8d39-466e-9efd-073f5c45135e",
     "regions": {
      "488bcd5e-41e9-488d-844a-103ad1713669": {
       "attrs": {
        "height": 0.8,
        "width": 0.8,
        "x": 0.1,
        "y": 0.1
       },
       "content": {
        "cell": "51cd4f89-58f6-4bc7-ae3a-50f0c34af20d",
        "part": "whole"
       },
       "id": "488bcd5e-41e9-488d-844a-103ad1713669"
      }
     }
    },
    "738d120c-19dd-4c22-ba59-a3152dd1f855": {
     "id": "738d120c-19dd-4c22-ba59-a3152dd1f855",
     "prev": "e1ee7c6d-bdfe-431f-b752-f3f3ed0e85b5",
     "regions": {
      "d785122f-4db3-4f27-8f0b-f923ad8bfeea": {
       "attrs": {
        "height": 0.8,
        "width": 0.8,
        "x": 0.1,
        "y": 0.1
       },
       "content": {
        "cell": "1514f0b3-ad27-4eb3-abbd-7f0626ae9186",
        "part": "whole"
       },
       "id": "d785122f-4db3-4f27-8f0b-f923ad8bfeea"
      }
     }
    },
    "7c1ea371-8d39-466e-9efd-073f5c45135e": {
     "id": "7c1ea371-8d39-466e-9efd-073f5c45135e",
     "prev": "04beb617-7124-44b8-a41d-f2d075b84120",
     "regions": {
      "68cc9501-82bc-4950-9e02-e0652a2fa2b9": {
       "attrs": {
        "height": 0.8,
        "width": 0.8,
        "x": 0.1,
        "y": 0.1
       },
       "content": {
        "cell": "f99f6834-b479-48f4-bffa-701e716e4bee",
        "part": "whole"
       },
       "id": "68cc9501-82bc-4950-9e02-e0652a2fa2b9"
      }
     }
    },
    "7e65289f-424d-4a85-9c1c-d6404c8bd806": {
     "id": "7e65289f-424d-4a85-9c1c-d6404c8bd806",
     "prev": "738d120c-19dd-4c22-ba59-a3152dd1f855",
     "regions": {
      "e6182284-b03d-4d4a-9e9b-c4ddd484ec61": {
       "attrs": {
        "height": 0.8,
        "width": 0.8,
        "x": 0.1,
        "y": 0.1
       },
       "content": {
        "cell": "3a08e1e9-27ec-4ab6-a4a8-7cecc51000c9",
        "part": "whole"
       },
       "id": "e6182284-b03d-4d4a-9e9b-c4ddd484ec61"
      }
     }
    },
    "839fcac9-12df-473b-b9c9-f6055d354d48": {
     "id": "839fcac9-12df-473b-b9c9-f6055d354d48",
     "prev": "25084269-a765-46ab-a1cd-f3ac2f4f1d42",
     "regions": {
      "d9501bed-e4c1-4c40-9ee2-4bed90809175": {
       "attrs": {
        "height": 0.8,
        "width": 0.8,
        "x": 0.1,
        "y": 0.1
       },
       "content": {
        "cell": "a1c5400f-a3ef-453a-9752-66710f78b913",
        "part": "whole"
       },
       "id": "d9501bed-e4c1-4c40-9ee2-4bed90809175"
      }
     }
    },
    "863e9c10-6f92-42d5-88ac-86d922bbbb2e": {
     "id": "863e9c10-6f92-42d5-88ac-86d922bbbb2e",
     "prev": "839fcac9-12df-473b-b9c9-f6055d354d48",
     "regions": {
      "cbceb844-45f6-4bf4-92f3-1f57325f3084": {
       "attrs": {
        "height": 0.8,
        "width": 0.8,
        "x": 0.1,
        "y": 0.1
       },
       "content": {
        "cell": "f20b4770-03ee-4341-9d99-21645231ac94",
        "part": "whole"
       },
       "id": "cbceb844-45f6-4bf4-92f3-1f57325f3084"
      }
     }
    },
    "8b39a41d-1374-416a-aa71-6225563feee4": {
     "id": "8b39a41d-1374-416a-aa71-6225563feee4",
     "prev": "2bddc9f9-fda7-4505-bf54-191122bec717",
     "regions": {
      "c154f753-1117-4068-8b12-5a4729eaa6ab": {
       "attrs": {
        "height": 0.8,
        "width": 0.8,
        "x": 0.1,
        "y": 0.1
       },
       "content": {
        "cell": "f44f6780-7452-468e-bc86-61e3e50029bb",
        "part": "whole"
       },
       "id": "c154f753-1117-4068-8b12-5a4729eaa6ab"
      }
     }
    },
    "9842c68a-b283-4bd9-9f7d-63fa51c1f2a8": {
     "id": "9842c68a-b283-4bd9-9f7d-63fa51c1f2a8",
     "prev": "7e65289f-424d-4a85-9c1c-d6404c8bd806",
     "regions": {
      "d5505ddf-8124-4827-87ca-fe9012c187df": {
       "attrs": {
        "height": 0.8,
        "width": 0.8,
        "x": 0.1,
        "y": 0.1
       },
       "content": {
        "cell": "11692b46-3db5-4d3f-84c8-c0e171879cf3",
        "part": "whole"
       },
       "id": "d5505ddf-8124-4827-87ca-fe9012c187df"
      }
     }
    },
    "a7395395-0212-4782-9bae-baf0ee8ce90c": {
     "id": "a7395395-0212-4782-9bae-baf0ee8ce90c",
     "prev": "ec8a7adc-77f9-4171-9725-7016f8cf8392",
     "regions": {
      "94af24ab-f11b-4a3a-be4f-0c952e1f68e4": {
       "attrs": {
        "height": 0.8,
        "width": 0.8,
        "x": 0.1,
        "y": 0.1
       },
       "content": {
        "cell": "219088af-fb34-4fc6-beef-7a6387de7331",
        "part": "whole"
       },
       "id": "94af24ab-f11b-4a3a-be4f-0c952e1f68e4"
      }
     }
    },
    "a99c2261-4bfc-4544-9389-7f02d85e555a": {
     "id": "a99c2261-4bfc-4544-9389-7f02d85e555a",
     "prev": "6f46fb34-3390-4563-8db3-9b476d0ddada",
     "regions": {
      "29f37d63-47e1-4b83-a4bf-d84595ab3f82": {
       "attrs": {
        "height": 0.8,
        "width": 0.8,
        "x": 0.1,
        "y": 0.1
       },
       "content": {
        "cell": "a3574787-d5ba-4d57-9454-3370f16e3ad9",
        "part": "whole"
       },
       "id": "29f37d63-47e1-4b83-a4bf-d84595ab3f82"
      }
     }
    },
    "b8279860-2ea1-43ec-843c-17f66722cbb9": {
     "id": "b8279860-2ea1-43ec-843c-17f66722cbb9",
     "prev": "e7514c12-ad0d-4f57-9e2b-3362c11e57d8",
     "regions": {
      "a70f5474-b937-477e-b9fb-0b160797220a": {
       "attrs": {
        "height": 0.8,
        "width": 0.8,
        "x": 0.1,
        "y": 0.1
       },
       "content": {
        "cell": "77b92b59-0899-4709-83c3-45f2e42da463",
        "part": "whole"
       },
       "id": "a70f5474-b937-477e-b9fb-0b160797220a"
      }
     }
    },
    "c2308f3f-a064-4e2e-8245-726f0552d9bb": {
     "id": "c2308f3f-a064-4e2e-8245-726f0552d9bb",
     "prev": "863e9c10-6f92-42d5-88ac-86d922bbbb2e",
     "regions": {
      "5b6c427e-1167-49c9-9621-e929d0e1c2cb": {
       "attrs": {
        "height": 0.8,
        "width": 0.8,
        "x": 0.1,
        "y": 0.1
       },
       "content": {
        "cell": "8c280b9e-ba7e-4e82-83f2-1fb6c2975ced",
        "part": "whole"
       },
       "id": "5b6c427e-1167-49c9-9621-e929d0e1c2cb"
      }
     }
    },
    "d4df9c7d-286f-45c6-9ef8-c719d1f65bb3": {
     "id": "d4df9c7d-286f-45c6-9ef8-c719d1f65bb3",
     "prev": "00a0addc-2337-4169-a659-143e32f8baaf",
     "regions": {
      "a36837c6-0f7c-4bfa-baa9-146e143a8faa": {
       "attrs": {
        "height": 0.8,
        "width": 0.8,
        "x": 0.1,
        "y": 0.1
       },
       "content": {
        "cell": "f9f2a0ee-0c2d-41ef-9ae2-f3b4891a8b0d",
        "part": "whole"
       },
       "id": "a36837c6-0f7c-4bfa-baa9-146e143a8faa"
      }
     }
    },
    "d55fabd7-b803-4dae-a316-31da7f3f2fe6": {
     "id": "d55fabd7-b803-4dae-a316-31da7f3f2fe6",
     "prev": "9842c68a-b283-4bd9-9f7d-63fa51c1f2a8",
     "regions": {
      "600407d0-1422-42b2-9a94-62e84e3a647f": {
       "attrs": {
        "height": 0.8,
        "width": 0.8,
        "x": 0.1,
        "y": 0.1
       },
       "content": {
        "cell": "3156d4e4-24fa-4f02-83f3-bcf9301befc8",
        "part": "whole"
       },
       "id": "600407d0-1422-42b2-9a94-62e84e3a647f"
      }
     }
    },
    "df72a77e-dada-439d-ac5c-fbb5f2e5be19": {
     "id": "df72a77e-dada-439d-ac5c-fbb5f2e5be19",
     "prev": "f0390dc5-9ce2-447c-a613-0c10696c9a4a",
     "regions": {
      "63f16205-c8ff-411c-ac1b-6aed16e22843": {
       "attrs": {
        "height": 0.8,
        "width": 0.8,
        "x": 0.1,
        "y": 0.1
       },
       "content": {
        "cell": "f52395e1-3f19-4bb2-8310-e62b62ff3e68",
        "part": "whole"
       },
       "id": "63f16205-c8ff-411c-ac1b-6aed16e22843"
      }
     }
    },
    "e1ee7c6d-bdfe-431f-b752-f3f3ed0e85b5": {
     "id": "e1ee7c6d-bdfe-431f-b752-f3f3ed0e85b5",
     "prev": "fa1eecf6-3f82-424a-9091-768d6e3542ea",
     "regions": {
      "ced1261b-e1eb-48fa-b062-7880e9c3b4f6": {
       "attrs": {
        "height": 0.8,
        "width": 0.8,
        "x": 0.1,
        "y": 0.1
       },
       "content": {
        "cell": "5d3cf603-5598-46f9-97cc-385a442c7c8e",
        "part": "whole"
       },
       "id": "ced1261b-e1eb-48fa-b062-7880e9c3b4f6"
      }
     }
    },
    "e309aa73-93b2-44ba-9ac9-3fdb2e050e9a": {
     "id": "e309aa73-93b2-44ba-9ac9-3fdb2e050e9a",
     "prev": "08f5c450-d84b-493e-a2cf-173a815f986b",
     "regions": {
      "ce066a50-28fd-497f-a44c-ca2fdfbaed21": {
       "attrs": {
        "height": 0.8,
        "width": 0.8,
        "x": 0.1,
        "y": 0.1
       },
       "content": {
        "cell": "a18d6e2f-4326-4598-882d-ceba02ad3491",
        "part": "whole"
       },
       "id": "ce066a50-28fd-497f-a44c-ca2fdfbaed21"
      }
     }
    },
    "e7514c12-ad0d-4f57-9e2b-3362c11e57d8": {
     "id": "e7514c12-ad0d-4f57-9e2b-3362c11e57d8",
     "prev": "8b39a41d-1374-416a-aa71-6225563feee4",
     "regions": {
      "967caf2b-88b4-4ece-ad87-3f3aa2b1ceaf": {
       "attrs": {
        "height": 0.8,
        "width": 0.8,
        "x": 0.1,
        "y": 0.1
       },
       "content": {
        "cell": "5780df0a-e735-431e-869a-1916a220651f",
        "part": "whole"
       },
       "id": "967caf2b-88b4-4ece-ad87-3f3aa2b1ceaf"
      }
     }
    },
    "ec8a7adc-77f9-4171-9725-7016f8cf8392": {
     "id": "ec8a7adc-77f9-4171-9725-7016f8cf8392",
     "prev": "edf809ac-a5f0-4236-b5f6-9a676e97fc8b",
     "regions": {
      "d9319bab-3a4a-4fda-bc7b-c9d9cbca78be": {
       "attrs": {
        "height": 0.8,
        "width": 0.8,
        "x": 0.1,
        "y": 0.1
       },
       "content": {
        "cell": "78ec0c05-8aff-49ae-abdc-995410801dfd",
        "part": "whole"
       },
       "id": "d9319bab-3a4a-4fda-bc7b-c9d9cbca78be"
      }
     }
    },
    "edf809ac-a5f0-4236-b5f6-9a676e97fc8b": {
     "id": "edf809ac-a5f0-4236-b5f6-9a676e97fc8b",
     "prev": "0fb322a8-6116-457d-a7fe-f9d17e56d898",
     "regions": {
      "71806744-aa06-4b3f-b7f8-0bc64d728ee7": {
       "attrs": {
        "height": 0.8,
        "width": 0.8,
        "x": 0.1,
        "y": 0.1
       },
       "content": {
        "cell": "5697c78e-d885-4960-bbe4-7b418c71d3ce",
        "part": "whole"
       },
       "id": "71806744-aa06-4b3f-b7f8-0bc64d728ee7"
      }
     }
    },
    "f0390dc5-9ce2-447c-a613-0c10696c9a4a": {
     "id": "f0390dc5-9ce2-447c-a613-0c10696c9a4a",
     "prev": "f9c50fe9-38fa-41f9-b559-becc89384eb3",
     "regions": {
      "e1521f38-b435-474d-9d21-d60a8e5d9254": {
       "attrs": {
        "height": 0.8,
        "width": 0.8,
        "x": 0.1,
        "y": 0.1
       },
       "content": {
        "cell": "fbedd6df-0d4a-437a-8f3b-4a67843c3c8f",
        "part": "whole"
       },
       "id": "e1521f38-b435-474d-9d21-d60a8e5d9254"
      }
     }
    },
    "f9a058db-4c88-40c3-a2e0-d89a8f56a295": {
     "id": "f9a058db-4c88-40c3-a2e0-d89a8f56a295",
     "prev": "6e292ca4-fe6c-4148-97ae-5c56d1a133a4",
     "regions": {
      "8f2dafbf-6fd2-4303-b6bb-2e8a36dc3b45": {
       "attrs": {
        "height": 0.8,
        "width": 0.8,
        "x": 0.1,
        "y": 0.1
       },
       "content": {
        "cell": "75c73539-b9ef-4182-a47e-74ace2082405",
        "part": "whole"
       },
       "id": "8f2dafbf-6fd2-4303-b6bb-2e8a36dc3b45"
      }
     }
    },
    "f9c50fe9-38fa-41f9-b559-becc89384eb3": {
     "id": "f9c50fe9-38fa-41f9-b559-becc89384eb3",
     "prev": "c2308f3f-a064-4e2e-8245-726f0552d9bb",
     "regions": {
      "aa4addb6-abab-4875-812f-4e0856ba6186": {
       "attrs": {
        "height": 0.8,
        "width": 0.8,
        "x": 0.1,
        "y": 0.1
       },
       "content": {
        "cell": "ab5690a1-31dc-4776-baff-4ed9f873a2a0",
        "part": "whole"
       },
       "id": "aa4addb6-abab-4875-812f-4e0856ba6186"
      }
     }
    },
    "fa1eecf6-3f82-424a-9091-768d6e3542ea": {
     "id": "fa1eecf6-3f82-424a-9091-768d6e3542ea",
     "prev": "37360440-31fa-43ec-82d7-7e7691253476",
     "regions": {
      "91eae370-0dc4-45c4-9156-037f8cac2d08": {
       "attrs": {
        "height": 0.8,
        "width": 0.8,
        "x": 0.1,
        "y": 0.1
       },
       "content": {
        "cell": "bdac6ef4-84d3-410e-9148-248a0516ab18",
        "part": "whole"
       },
       "id": "91eae370-0dc4-45c4-9156-037f8cac2d08"
      }
     }
    }
   },
   "themes": {}
  },
  "toc": {
   "colors": {
    "hover_highlight": "#DAA520",
    "navigate_num": "#000000",
    "navigate_text": "#333333",
    "running_highlight": "#FF0000",
    "selected_highlight": "#FFD700",
    "sidebar_border": "#EEEEEE",
    "wrapper_background": "#FFFFFF"
   },
   "moveMenuLeft": true,
   "nav_menu": {
    "height": "174px",
    "width": "252px"
   },
   "navigate_menu": true,
   "number_sections": true,
   "sideBar": true,
   "threshold": 4,
   "toc_cell": true,
   "toc_position": {
    "height": "691px",
    "left": "0px",
    "right": "1317px",
    "top": "106px",
    "width": "212px"
   },
   "toc_section_display": "block",
   "toc_window_display": false,
   "widenNotebook": false
  }
 },
 "nbformat": 4,
 "nbformat_minor": 2
}
